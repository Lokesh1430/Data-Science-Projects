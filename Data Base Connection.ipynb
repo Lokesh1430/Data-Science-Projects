{
 "cells": [
  {
   "cell_type": "markdown",
   "id": "fcabe54c-8847-4d8b-b466-25b4774ffc38",
   "metadata": {},
   "source": [
    "<h4 style=\"color: #00698f; font-weight: bold; text-align: center;\"> <span style=\"color: #8b9467;\">Integrating</span> <span style=\"color: #ff9900;\">Microsoft SQL Server</span> <span style=\"color: #3498db;\">and MySQL</span>: <span style=\"color: #8e44ad;\">A Data Visualization Dashboard</span> <span style=\"color: #2ecc71;\">for Student Performance Analysis</span> </h4>"
   ]
  },
  {
   "cell_type": "markdown",
   "id": "6624aded-2690-40a7-a639-e394de53464c",
   "metadata": {},
   "source": [
    "### Establish a connection to the Microsoft SQL Server"
   ]
  },
  {
   "cell_type": "code",
   "execution_count": 133,
   "id": "52cc290d-bec7-4631-a080-0c54ee5564e8",
   "metadata": {},
   "outputs": [
    {
     "name": "stdout",
     "output_type": "stream",
     "text": [
      "('Lokesh', 1, 22, 21, 18)\n",
      "('Lokesh', 2, 21, 20, 17)\n",
      "('Lokesh', 3, 14, 19, 15)\n",
      "('Prasanna', 1, 20, 17, 22)\n",
      "('Prasanna', 2, 23, 15, 21)\n",
      "('Prasanna', 3, 22, 18, 19)\n",
      "('Lakshman', 1, 23, 19, 20)\n",
      "('Lakshman', 2, 24, 22, 24)\n",
      "('Lakshman', 3, 12, 25, 19)\n",
      "('Phani', 1, 15, 22, 25)\n",
      "('Phani', 2, 18, 21, 25)\n",
      "('Phani', 3, 17, 18, 20)\n"
     ]
    },
    {
     "name": "stderr",
     "output_type": "stream",
     "text": [
      "<>:3: SyntaxWarning:\n",
      "\n",
      "invalid escape sequence '\\S'\n",
      "\n",
      "<>:3: SyntaxWarning:\n",
      "\n",
      "invalid escape sequence '\\S'\n",
      "\n",
      "C:\\Users\\lokesh\\AppData\\Local\\Temp\\ipykernel_3940\\4254083272.py:3: SyntaxWarning:\n",
      "\n",
      "invalid escape sequence '\\S'\n",
      "\n"
     ]
    }
   ],
   "source": [
    "import pypyodbc as odbc\n",
    "DRIVER_NAME= 'SQL SERVER'\n",
    "SERVER_NAME='LAPTOP-GI8UHGPH\\SQLEXPRESS'\n",
    "DATABASE_NAME = 'SQL BIGINING'\n",
    "\n",
    "connection_string = f\"\"\"\n",
    "DRIVER={{{DRIVER_NAME}}};\n",
    "SERVER={SERVER_NAME};\n",
    "DATABASE={DATABASE_NAME};\n",
    "Trust_Connectio = yes;\n",
    "\"\"\"\n",
    "\n",
    "conn =odbc.connect(connection_string)\n",
    "\n",
    "# create a cursor object\n",
    "cursor = conn.cursor()\n",
    "\n",
    "# define a select statement\n",
    "select_statement = \"SELECT * FROM student_marks\"\n",
    "\n",
    "# execute the select statement\n",
    "cursor.execute(select_statement)\n",
    "\n",
    "# fetch all the rows and print them out\n",
    "rows = cursor.fetchall()\n",
    "for row in rows:\n",
    "    print(row)\n",
    "\n",
    "# close the cursor and connection objects\n",
    "cursor.close()\n",
    "conn.close()"
   ]
  },
  {
   "cell_type": "markdown",
   "id": "6965c978-db2a-45d0-85a9-f3d03cd9a971",
   "metadata": {},
   "source": [
    "### The student_marks table is converted to a data frame"
   ]
  },
  {
   "cell_type": "code",
   "execution_count": 134,
   "id": "0d676a4c-1c37-466c-ae00-340b012c8dd9",
   "metadata": {},
   "outputs": [
    {
     "data": {
      "text/html": [
       "<div>\n",
       "<style scoped>\n",
       "    .dataframe tbody tr th:only-of-type {\n",
       "        vertical-align: middle;\n",
       "    }\n",
       "\n",
       "    .dataframe tbody tr th {\n",
       "        vertical-align: top;\n",
       "    }\n",
       "\n",
       "    .dataframe thead th {\n",
       "        text-align: right;\n",
       "    }\n",
       "</style>\n",
       "<table border=\"1\" class=\"dataframe\">\n",
       "  <thead>\n",
       "    <tr style=\"text-align: right;\">\n",
       "      <th></th>\n",
       "      <th>name</th>\n",
       "      <th>ut</th>\n",
       "      <th>datascience</th>\n",
       "      <th>statistics</th>\n",
       "      <th>computers</th>\n",
       "    </tr>\n",
       "  </thead>\n",
       "  <tbody>\n",
       "    <tr>\n",
       "      <th>0</th>\n",
       "      <td>Lokesh</td>\n",
       "      <td>1</td>\n",
       "      <td>22</td>\n",
       "      <td>21</td>\n",
       "      <td>18</td>\n",
       "    </tr>\n",
       "    <tr>\n",
       "      <th>1</th>\n",
       "      <td>Lokesh</td>\n",
       "      <td>2</td>\n",
       "      <td>21</td>\n",
       "      <td>20</td>\n",
       "      <td>17</td>\n",
       "    </tr>\n",
       "    <tr>\n",
       "      <th>2</th>\n",
       "      <td>Lokesh</td>\n",
       "      <td>3</td>\n",
       "      <td>14</td>\n",
       "      <td>19</td>\n",
       "      <td>15</td>\n",
       "    </tr>\n",
       "    <tr>\n",
       "      <th>3</th>\n",
       "      <td>Prasanna</td>\n",
       "      <td>1</td>\n",
       "      <td>20</td>\n",
       "      <td>17</td>\n",
       "      <td>22</td>\n",
       "    </tr>\n",
       "    <tr>\n",
       "      <th>4</th>\n",
       "      <td>Prasanna</td>\n",
       "      <td>2</td>\n",
       "      <td>23</td>\n",
       "      <td>15</td>\n",
       "      <td>21</td>\n",
       "    </tr>\n",
       "    <tr>\n",
       "      <th>5</th>\n",
       "      <td>Prasanna</td>\n",
       "      <td>3</td>\n",
       "      <td>22</td>\n",
       "      <td>18</td>\n",
       "      <td>19</td>\n",
       "    </tr>\n",
       "    <tr>\n",
       "      <th>6</th>\n",
       "      <td>Lakshman</td>\n",
       "      <td>1</td>\n",
       "      <td>23</td>\n",
       "      <td>19</td>\n",
       "      <td>20</td>\n",
       "    </tr>\n",
       "    <tr>\n",
       "      <th>7</th>\n",
       "      <td>Lakshman</td>\n",
       "      <td>2</td>\n",
       "      <td>24</td>\n",
       "      <td>22</td>\n",
       "      <td>24</td>\n",
       "    </tr>\n",
       "    <tr>\n",
       "      <th>8</th>\n",
       "      <td>Lakshman</td>\n",
       "      <td>3</td>\n",
       "      <td>12</td>\n",
       "      <td>25</td>\n",
       "      <td>19</td>\n",
       "    </tr>\n",
       "    <tr>\n",
       "      <th>9</th>\n",
       "      <td>Phani</td>\n",
       "      <td>1</td>\n",
       "      <td>15</td>\n",
       "      <td>22</td>\n",
       "      <td>25</td>\n",
       "    </tr>\n",
       "    <tr>\n",
       "      <th>10</th>\n",
       "      <td>Phani</td>\n",
       "      <td>2</td>\n",
       "      <td>18</td>\n",
       "      <td>21</td>\n",
       "      <td>25</td>\n",
       "    </tr>\n",
       "    <tr>\n",
       "      <th>11</th>\n",
       "      <td>Phani</td>\n",
       "      <td>3</td>\n",
       "      <td>17</td>\n",
       "      <td>18</td>\n",
       "      <td>20</td>\n",
       "    </tr>\n",
       "  </tbody>\n",
       "</table>\n",
       "</div>"
      ],
      "text/plain": [
       "        name  ut  datascience  statistics  computers\n",
       "0     Lokesh   1           22          21         18\n",
       "1     Lokesh   2           21          20         17\n",
       "2     Lokesh   3           14          19         15\n",
       "3   Prasanna   1           20          17         22\n",
       "4   Prasanna   2           23          15         21\n",
       "5   Prasanna   3           22          18         19\n",
       "6   Lakshman   1           23          19         20\n",
       "7   Lakshman   2           24          22         24\n",
       "8   Lakshman   3           12          25         19\n",
       "9      Phani   1           15          22         25\n",
       "10     Phani   2           18          21         25\n",
       "11     Phani   3           17          18         20"
      ]
     },
     "execution_count": 134,
     "metadata": {},
     "output_type": "execute_result"
    }
   ],
   "source": [
    "import pandas as pd\n",
    "df1 = pd.DataFrame(rows, columns=['name',  'ut', 'datascience',  'statistics',  'computers'])\n",
    "df1"
   ]
  },
  {
   "cell_type": "markdown",
   "id": "18514b9a-580a-4807-9346-ddcfb42b5cad",
   "metadata": {},
   "source": [
    "### Counting Non-Null Values in Each Row (axis=1)"
   ]
  },
  {
   "cell_type": "code",
   "execution_count": 135,
   "id": "60a7830e-d8d7-4a8e-b35e-0c437142160e",
   "metadata": {},
   "outputs": [
    {
     "data": {
      "text/plain": [
       "0     5\n",
       "1     5\n",
       "2     5\n",
       "3     5\n",
       "4     5\n",
       "5     5\n",
       "6     5\n",
       "7     5\n",
       "8     5\n",
       "9     5\n",
       "10    5\n",
       "11    5\n",
       "dtype: int64"
      ]
     },
     "execution_count": 135,
     "metadata": {},
     "output_type": "execute_result"
    }
   ],
   "source": [
    "df1.count(axis=1)"
   ]
  },
  {
   "cell_type": "markdown",
   "id": "85ec5340-26f6-4104-85f7-9ba4e1572a70",
   "metadata": {},
   "source": [
    "### Maximum Values in Each Column (axis=0)"
   ]
  },
  {
   "cell_type": "code",
   "execution_count": 136,
   "id": "a622c492-4af9-4394-9fce-9fba37f2c334",
   "metadata": {},
   "outputs": [
    {
     "name": "stdout",
     "output_type": "stream",
     "text": [
      "name           Prasanna\n",
      "ut                    3\n",
      "datascience          24\n",
      "statistics           25\n",
      "computers            25\n",
      "dtype: object\n"
     ]
    }
   ],
   "source": [
    "print(df1.max())"
   ]
  },
  {
   "cell_type": "markdown",
   "id": "9295f5b3-8b86-4455-9d01-5ada9f042c02",
   "metadata": {},
   "source": [
    "### Printing Maximum Values in Numeric Columns"
   ]
  },
  {
   "cell_type": "code",
   "execution_count": 137,
   "id": "728c1607-3614-4280-a9f3-dd2f97a58ba6",
   "metadata": {},
   "outputs": [
    {
     "name": "stdout",
     "output_type": "stream",
     "text": [
      "ut              3\n",
      "datascience    24\n",
      "statistics     25\n",
      "computers      25\n",
      "dtype: int64\n"
     ]
    }
   ],
   "source": [
    "print(df1.max(numeric_only=True))"
   ]
  },
  {
   "cell_type": "markdown",
   "id": "b626d78a-66ed-40be-98b0-0272fe995b39",
   "metadata": {},
   "source": [
    "### Calculating the Total of Each Row"
   ]
  },
  {
   "cell_type": "code",
   "execution_count": 138,
   "id": "ea2c4a94-13ba-48c3-9b72-72321c1ac63e",
   "metadata": {},
   "outputs": [
    {
     "data": {
      "text/html": [
       "<div>\n",
       "<style scoped>\n",
       "    .dataframe tbody tr th:only-of-type {\n",
       "        vertical-align: middle;\n",
       "    }\n",
       "\n",
       "    .dataframe tbody tr th {\n",
       "        vertical-align: top;\n",
       "    }\n",
       "\n",
       "    .dataframe thead th {\n",
       "        text-align: right;\n",
       "    }\n",
       "</style>\n",
       "<table border=\"1\" class=\"dataframe\">\n",
       "  <thead>\n",
       "    <tr style=\"text-align: right;\">\n",
       "      <th></th>\n",
       "      <th>name</th>\n",
       "      <th>ut</th>\n",
       "      <th>datascience</th>\n",
       "      <th>statistics</th>\n",
       "      <th>computers</th>\n",
       "      <th>total</th>\n",
       "    </tr>\n",
       "  </thead>\n",
       "  <tbody>\n",
       "    <tr>\n",
       "      <th>0</th>\n",
       "      <td>Lokesh</td>\n",
       "      <td>1</td>\n",
       "      <td>22</td>\n",
       "      <td>21</td>\n",
       "      <td>18</td>\n",
       "      <td>61</td>\n",
       "    </tr>\n",
       "    <tr>\n",
       "      <th>1</th>\n",
       "      <td>Lokesh</td>\n",
       "      <td>2</td>\n",
       "      <td>21</td>\n",
       "      <td>20</td>\n",
       "      <td>17</td>\n",
       "      <td>58</td>\n",
       "    </tr>\n",
       "    <tr>\n",
       "      <th>2</th>\n",
       "      <td>Lokesh</td>\n",
       "      <td>3</td>\n",
       "      <td>14</td>\n",
       "      <td>19</td>\n",
       "      <td>15</td>\n",
       "      <td>48</td>\n",
       "    </tr>\n",
       "    <tr>\n",
       "      <th>3</th>\n",
       "      <td>Prasanna</td>\n",
       "      <td>1</td>\n",
       "      <td>20</td>\n",
       "      <td>17</td>\n",
       "      <td>22</td>\n",
       "      <td>59</td>\n",
       "    </tr>\n",
       "    <tr>\n",
       "      <th>4</th>\n",
       "      <td>Prasanna</td>\n",
       "      <td>2</td>\n",
       "      <td>23</td>\n",
       "      <td>15</td>\n",
       "      <td>21</td>\n",
       "      <td>59</td>\n",
       "    </tr>\n",
       "    <tr>\n",
       "      <th>5</th>\n",
       "      <td>Prasanna</td>\n",
       "      <td>3</td>\n",
       "      <td>22</td>\n",
       "      <td>18</td>\n",
       "      <td>19</td>\n",
       "      <td>59</td>\n",
       "    </tr>\n",
       "    <tr>\n",
       "      <th>6</th>\n",
       "      <td>Lakshman</td>\n",
       "      <td>1</td>\n",
       "      <td>23</td>\n",
       "      <td>19</td>\n",
       "      <td>20</td>\n",
       "      <td>62</td>\n",
       "    </tr>\n",
       "    <tr>\n",
       "      <th>7</th>\n",
       "      <td>Lakshman</td>\n",
       "      <td>2</td>\n",
       "      <td>24</td>\n",
       "      <td>22</td>\n",
       "      <td>24</td>\n",
       "      <td>70</td>\n",
       "    </tr>\n",
       "    <tr>\n",
       "      <th>8</th>\n",
       "      <td>Lakshman</td>\n",
       "      <td>3</td>\n",
       "      <td>12</td>\n",
       "      <td>25</td>\n",
       "      <td>19</td>\n",
       "      <td>56</td>\n",
       "    </tr>\n",
       "    <tr>\n",
       "      <th>9</th>\n",
       "      <td>Phani</td>\n",
       "      <td>1</td>\n",
       "      <td>15</td>\n",
       "      <td>22</td>\n",
       "      <td>25</td>\n",
       "      <td>62</td>\n",
       "    </tr>\n",
       "    <tr>\n",
       "      <th>10</th>\n",
       "      <td>Phani</td>\n",
       "      <td>2</td>\n",
       "      <td>18</td>\n",
       "      <td>21</td>\n",
       "      <td>25</td>\n",
       "      <td>64</td>\n",
       "    </tr>\n",
       "    <tr>\n",
       "      <th>11</th>\n",
       "      <td>Phani</td>\n",
       "      <td>3</td>\n",
       "      <td>17</td>\n",
       "      <td>18</td>\n",
       "      <td>20</td>\n",
       "      <td>55</td>\n",
       "    </tr>\n",
       "  </tbody>\n",
       "</table>\n",
       "</div>"
      ],
      "text/plain": [
       "        name  ut  datascience  statistics  computers  total\n",
       "0     Lokesh   1           22          21         18     61\n",
       "1     Lokesh   2           21          20         17     58\n",
       "2     Lokesh   3           14          19         15     48\n",
       "3   Prasanna   1           20          17         22     59\n",
       "4   Prasanna   2           23          15         21     59\n",
       "5   Prasanna   3           22          18         19     59\n",
       "6   Lakshman   1           23          19         20     62\n",
       "7   Lakshman   2           24          22         24     70\n",
       "8   Lakshman   3           12          25         19     56\n",
       "9      Phani   1           15          22         25     62\n",
       "10     Phani   2           18          21         25     64\n",
       "11     Phani   3           17          18         20     55"
      ]
     },
     "execution_count": 138,
     "metadata": {},
     "output_type": "execute_result"
    }
   ],
   "source": [
    "df1['total'] = df1.iloc[:, 2:].sum(axis=1)\n",
    "df1"
   ]
  },
  {
   "cell_type": "markdown",
   "id": "16df7625-5c49-4950-95ea-1c60850876c3",
   "metadata": {},
   "source": [
    "### Result of Unit Test 1:"
   ]
  },
  {
   "cell_type": "code",
   "execution_count": 139,
   "id": "456ca3fb-5455-4e82-8536-9a53e7f15569",
   "metadata": {},
   "outputs": [
    {
     "name": "stdout",
     "output_type": "stream",
     "text": [
      "\n",
      "Result of Unit Test 1: \n",
      "\n",
      "        name  ut  datascience  statistics  computers  total\n",
      "0    Lokesh   1           22          21         18     61\n",
      "3  Prasanna   1           20          17         22     59\n",
      "6  Lakshman   1           23          19         20     62\n",
      "9     Phani   1           15          22         25     62\n"
     ]
    }
   ],
   "source": [
    "UT1 = df1[df1['ut'] == 1]\n",
    "print('\\nResult of Unit Test 1: \\n\\n',UT1)"
   ]
  },
  {
   "cell_type": "markdown",
   "id": "45038e8a-8d44-47bd-9d02-5711e4e2e0a0",
   "metadata": {},
   "source": [
    "### Result of Unit Test 2:"
   ]
  },
  {
   "cell_type": "code",
   "execution_count": 140,
   "id": "70d1e9d7-bcad-4b58-a4d5-4a3124eb72d9",
   "metadata": {},
   "outputs": [
    {
     "name": "stdout",
     "output_type": "stream",
     "text": [
      "\n",
      "Result of Unit Test 2: \n",
      "\n",
      "         name  ut  datascience  statistics  computers  total\n",
      "1     Lokesh   2           21          20         17     58\n",
      "4   Prasanna   2           23          15         21     59\n",
      "7   Lakshman   2           24          22         24     70\n",
      "10     Phani   2           18          21         25     64\n"
     ]
    }
   ],
   "source": [
    "UT2 = df1[df1['ut'] == 2]\n",
    "print('\\nResult of Unit Test 2: \\n\\n',UT2)"
   ]
  },
  {
   "cell_type": "markdown",
   "id": "56ba2981-ce66-4f3a-b536-63934f16156a",
   "metadata": {},
   "source": [
    "### Result of Unit Test 3:"
   ]
  },
  {
   "cell_type": "code",
   "execution_count": 141,
   "id": "a5cbbeed-78b3-4379-ae66-bf62296996c9",
   "metadata": {},
   "outputs": [
    {
     "name": "stdout",
     "output_type": "stream",
     "text": [
      "\n",
      "Result of Unit Test 3: \n",
      "\n",
      "         name  ut  datascience  statistics  computers  total\n",
      "2     Lokesh   3           14          19         15     48\n",
      "5   Prasanna   3           22          18         19     59\n",
      "8   Lakshman   3           12          25         19     56\n",
      "11     Phani   3           17          18         20     55\n"
     ]
    }
   ],
   "source": [
    "UT3 = df1[df1['ut'] == 3]\n",
    "print('\\nResult of Unit Test 3: \\n\\n',UT3)"
   ]
  },
  {
   "cell_type": "markdown",
   "id": "2fc6f345-f4ac-4687-9e8b-0d423fc6d79a",
   "metadata": {},
   "source": [
    "### Highest Marks for all students"
   ]
  },
  {
   "cell_type": "code",
   "execution_count": 142,
   "id": "25c730b2-de4c-4eb7-91af-ba6da547dd1f",
   "metadata": {},
   "outputs": [
    {
     "name": "stdout",
     "output_type": "stream",
     "text": [
      "       name  ut  datascience  statistics  computers  total\n",
      "7  Lakshman   2           24          22         24     70\n"
     ]
    }
   ],
   "source": [
    "highest = df1['total'].max()\n",
    "print(df1[df1['total'] == highest])"
   ]
  },
  {
   "cell_type": "markdown",
   "id": "c9796420-3654-4773-bc7b-745c45679522",
   "metadata": {},
   "source": [
    "### Highest Marks for all students in the unit test 1:"
   ]
  },
  {
   "cell_type": "code",
   "execution_count": 143,
   "id": "9d15a2a4-5ee0-4d77-93cb-4dfbb4a90570",
   "metadata": {},
   "outputs": [
    {
     "name": "stdout",
     "output_type": "stream",
     "text": [
      "       name  ut  datascience  statistics  computers  total\n",
      "6  Lakshman   1           23          19         20     62\n",
      "9     Phani   1           15          22         25     62\n"
     ]
    }
   ],
   "source": [
    "highest = UT1['total'].max()\n",
    "print(UT1[UT1['total']== highest])"
   ]
  },
  {
   "cell_type": "markdown",
   "id": "21643b3e-429b-4d67-af8d-08081c24d917",
   "metadata": {},
   "source": [
    "### Find the Highest and Second-Highest Scores in Unit Test 1:"
   ]
  },
  {
   "cell_type": "code",
   "execution_count": 144,
   "id": "5fc0e24e-c0fe-4ed9-9278-1585ccf64367",
   "metadata": {},
   "outputs": [
    {
     "name": "stdout",
     "output_type": "stream",
     "text": [
      "       name  ut  datascience  statistics  computers  total\n",
      "6  Lakshman   1           23          19         20     62\n",
      "9     Phani   1           15          22         25     62\n",
      "0    Lokesh   1           22          21         18     61\n"
     ]
    }
   ],
   "source": [
    "# find the highest value in 'total' column\n",
    "highest1 = UT1['total'].nlargest(1).iloc[0]\n",
    "# find the second highest value in 'total' column\n",
    "highest2 = UT1[UT1['total'] != highest1]['total'].nlargest(1).iloc[0]\n",
    "# print the rows where 'total' is equal to second highest value\n",
    "print(UT1[UT1['total'].isin([highest1,highest2])].sort_values(by='total', ascending=False))"
   ]
  },
  {
   "cell_type": "markdown",
   "id": "32ff848c-b25a-4495-96de-7b2f1b15045f",
   "metadata": {},
   "source": [
    "### Find the Highest and Second-Highest Scores in Unit Test 2:"
   ]
  },
  {
   "cell_type": "code",
   "execution_count": 145,
   "id": "a93045a4-d8bc-47a4-9e7b-b3bfa6c8fe8d",
   "metadata": {},
   "outputs": [
    {
     "name": "stdout",
     "output_type": "stream",
     "text": [
      "        name  ut  datascience  statistics  computers  total\n",
      "7   Lakshman   2           24          22         24     70\n",
      "10     Phani   2           18          21         25     64\n"
     ]
    }
   ],
   "source": [
    "highest1_ut2 = UT2['total'].nlargest(1).iloc[0]\n",
    "highest2_ut2 = UT2[UT2['total'] != highest1_ut2]['total'].nlargest(1).iloc[0]\n",
    "print(UT2[UT2['total'].isin([highest1_ut2,highest2_ut2])].sort_values(by='total', ascending=False))"
   ]
  },
  {
   "cell_type": "markdown",
   "id": "5bf811e3-7c2c-4e67-a892-6bd93da18cda",
   "metadata": {},
   "source": [
    "### Find the Highest and Second-Highest Scores in Unit Test 3:"
   ]
  },
  {
   "cell_type": "code",
   "execution_count": 146,
   "id": "9a57165c-ec43-4d51-8451-e6d0566dc187",
   "metadata": {},
   "outputs": [
    {
     "name": "stdout",
     "output_type": "stream",
     "text": [
      "       name  ut  datascience  statistics  computers  total\n",
      "5  Prasanna   3           22          18         19     59\n",
      "8  Lakshman   3           12          25         19     56\n"
     ]
    }
   ],
   "source": [
    "highest1_ut3 = UT3['total'].nlargest(1).iloc[0]\n",
    "highest2_ut3 = UT3[UT3['total'] != highest1_ut3]['total'].nlargest(1).iloc[0]\n",
    "print(UT3[UT3['total'].isin([highest1_ut3,highest2_ut3])].sort_values(by='total', ascending=False))"
   ]
  },
  {
   "cell_type": "markdown",
   "id": "ee795c85-a9b7-4a91-9279-4d220887c192",
   "metadata": {},
   "source": [
    "### Find the Minimum Marks Obtained by Phani in Each Subject Across Unit Tests:\n"
   ]
  },
  {
   "cell_type": "code",
   "execution_count": 147,
   "id": "1465c702-3391-451a-9d59-db4683ece52c",
   "metadata": {},
   "outputs": [
    {
     "name": "stdout",
     "output_type": "stream",
     "text": [
      "Minimum Marks obtained by Phani in each subject across the unit tests\n",
      "\n",
      " datascience    15\n",
      "statistics     18\n",
      "computers      20\n",
      "dtype: int64\n"
     ]
    }
   ],
   "source": [
    "dfphani = df1.loc[df1.name == 'Phani']\n",
    "print('Minimum Marks obtained by Phani in each subject across the unit tests\\n\\n', dfphani[['datascience','statistics','computers']].min())"
   ]
  },
  {
   "cell_type": "markdown",
   "id": "02006d23-2630-4d84-9eae-b5ee84b3553e",
   "metadata": {},
   "source": [
    "### Find the Minimum Marks Obtained by Lakshman in Each Subject Across Unit Tests:"
   ]
  },
  {
   "cell_type": "code",
   "execution_count": 148,
   "id": "26a0bd67-df9b-437b-995f-6922ac92cade",
   "metadata": {},
   "outputs": [
    {
     "name": "stdout",
     "output_type": "stream",
     "text": [
      "Minimum Marks obtained by Lakshman in each subject across the unit tests\n",
      "\n",
      " datascience    12\n",
      "statistics     19\n",
      "computers      19\n",
      "dtype: int64\n"
     ]
    }
   ],
   "source": [
    "dflakshman = df1.loc[df1.name == 'Lakshman']\n",
    "print('Minimum Marks obtained by Lakshman in each subject across the unit tests\\n\\n', dflakshman[['datascience','statistics','computers']].min())"
   ]
  },
  {
   "cell_type": "markdown",
   "id": "48f3244b-647d-4678-9ad7-702e02439a1f",
   "metadata": {},
   "source": [
    "### Find the Minimum Marks Obtained by Prasanna in Each Subject Across Unit Tests:"
   ]
  },
  {
   "cell_type": "code",
   "execution_count": 149,
   "id": "aeaa4213-215a-4f98-a08b-d0d7b2e313cc",
   "metadata": {},
   "outputs": [
    {
     "name": "stdout",
     "output_type": "stream",
     "text": [
      "Minimum Marks obtained by Lakshman in each subject across the unit tests\n",
      "\n",
      " datascience    20\n",
      "statistics     15\n",
      "computers      19\n",
      "dtype: int64\n"
     ]
    }
   ],
   "source": [
    "dfprasanna = df1.loc[df1.name == 'Prasanna']\n",
    "print('Minimum Marks obtained by Lakshman in each subject across the unit tests\\n\\n', dfprasanna[['datascience','statistics','computers']].min())"
   ]
  },
  {
   "cell_type": "markdown",
   "id": "35ac05b0-016f-48bf-87d9-bb7ad8366e1b",
   "metadata": {},
   "source": [
    "### Find the Minimum Marks Obtained by Lokesh in Each Subject Across Unit Tests:"
   ]
  },
  {
   "cell_type": "code",
   "execution_count": 150,
   "id": "b03d3de6-79a3-475b-b1de-286658a25d7a",
   "metadata": {},
   "outputs": [
    {
     "name": "stdout",
     "output_type": "stream",
     "text": [
      "Minimum Marks obtained by Lokesh in each subject across the unit tests\n",
      "\n",
      " datascience    14\n",
      "statistics     19\n",
      "computers      15\n",
      "dtype: int64\n"
     ]
    }
   ],
   "source": [
    "dflokesh = df1.loc[df1.name == 'Lokesh']\n",
    "print('Minimum Marks obtained by Lokesh in each subject across the unit tests\\n\\n', dflokesh[['datascience','statistics','computers']].min())"
   ]
  },
  {
   "cell_type": "markdown",
   "id": "f81faee5-0497-442d-8ec9-4bd718172b18",
   "metadata": {},
   "source": [
    "### Establish a connection to the MySQL Database"
   ]
  },
  {
   "cell_type": "code",
   "execution_count": 151,
   "id": "ef85063c-7272-4200-8d47-a5e39d8273ff",
   "metadata": {},
   "outputs": [],
   "source": [
    "from pymysql import *\n",
    "from sqlalchemy import *\n",
    "user ='root'\n",
    "password = ''\n",
    "host = 'localhost'\n",
    "port = 3306\n",
    "database = 'lokesh'\n",
    "data = \"mysql+pymysql://{0}:{1}@{2}:{3}/{4}\".format(user,password,host,port,database)"
   ]
  },
  {
   "cell_type": "markdown",
   "id": "f10cbf13-5f89-43ce-8b60-f9f56b0b9c9a",
   "metadata": {},
   "source": [
    "### Retrieve and Display Student Marks from MySQL Database using Pandas:"
   ]
  },
  {
   "cell_type": "code",
   "execution_count": 152,
   "id": "a4db572c-af12-44e0-b4ac-bbc453eadceb",
   "metadata": {},
   "outputs": [
    {
     "data": {
      "text/html": [
       "<div>\n",
       "<style scoped>\n",
       "    .dataframe tbody tr th:only-of-type {\n",
       "        vertical-align: middle;\n",
       "    }\n",
       "\n",
       "    .dataframe tbody tr th {\n",
       "        vertical-align: top;\n",
       "    }\n",
       "\n",
       "    .dataframe thead th {\n",
       "        text-align: right;\n",
       "    }\n",
       "</style>\n",
       "<table border=\"1\" class=\"dataframe\">\n",
       "  <thead>\n",
       "    <tr style=\"text-align: right;\">\n",
       "      <th></th>\n",
       "      <th>Name</th>\n",
       "      <th>UT</th>\n",
       "      <th>DataScience</th>\n",
       "      <th>Statistics</th>\n",
       "      <th>Computers</th>\n",
       "    </tr>\n",
       "  </thead>\n",
       "  <tbody>\n",
       "    <tr>\n",
       "      <th>0</th>\n",
       "      <td>Lokesh</td>\n",
       "      <td>1</td>\n",
       "      <td>22</td>\n",
       "      <td>21</td>\n",
       "      <td>18</td>\n",
       "    </tr>\n",
       "    <tr>\n",
       "      <th>1</th>\n",
       "      <td>Lokesh</td>\n",
       "      <td>2</td>\n",
       "      <td>21</td>\n",
       "      <td>20</td>\n",
       "      <td>17</td>\n",
       "    </tr>\n",
       "    <tr>\n",
       "      <th>2</th>\n",
       "      <td>Lokesh</td>\n",
       "      <td>3</td>\n",
       "      <td>14</td>\n",
       "      <td>19</td>\n",
       "      <td>15</td>\n",
       "    </tr>\n",
       "    <tr>\n",
       "      <th>3</th>\n",
       "      <td>Prasanna</td>\n",
       "      <td>1</td>\n",
       "      <td>20</td>\n",
       "      <td>17</td>\n",
       "      <td>22</td>\n",
       "    </tr>\n",
       "    <tr>\n",
       "      <th>4</th>\n",
       "      <td>Prasanna</td>\n",
       "      <td>2</td>\n",
       "      <td>23</td>\n",
       "      <td>15</td>\n",
       "      <td>21</td>\n",
       "    </tr>\n",
       "    <tr>\n",
       "      <th>5</th>\n",
       "      <td>Prasanna</td>\n",
       "      <td>3</td>\n",
       "      <td>22</td>\n",
       "      <td>18</td>\n",
       "      <td>19</td>\n",
       "    </tr>\n",
       "    <tr>\n",
       "      <th>6</th>\n",
       "      <td>Lakshman</td>\n",
       "      <td>1</td>\n",
       "      <td>23</td>\n",
       "      <td>19</td>\n",
       "      <td>20</td>\n",
       "    </tr>\n",
       "    <tr>\n",
       "      <th>7</th>\n",
       "      <td>Lakshman</td>\n",
       "      <td>2</td>\n",
       "      <td>24</td>\n",
       "      <td>22</td>\n",
       "      <td>24</td>\n",
       "    </tr>\n",
       "    <tr>\n",
       "      <th>8</th>\n",
       "      <td>Lakshman</td>\n",
       "      <td>3</td>\n",
       "      <td>12</td>\n",
       "      <td>25</td>\n",
       "      <td>19</td>\n",
       "    </tr>\n",
       "    <tr>\n",
       "      <th>9</th>\n",
       "      <td>Phani</td>\n",
       "      <td>1</td>\n",
       "      <td>15</td>\n",
       "      <td>22</td>\n",
       "      <td>25</td>\n",
       "    </tr>\n",
       "    <tr>\n",
       "      <th>10</th>\n",
       "      <td>Phani</td>\n",
       "      <td>2</td>\n",
       "      <td>18</td>\n",
       "      <td>21</td>\n",
       "      <td>25</td>\n",
       "    </tr>\n",
       "    <tr>\n",
       "      <th>11</th>\n",
       "      <td>Phani</td>\n",
       "      <td>3</td>\n",
       "      <td>17</td>\n",
       "      <td>18</td>\n",
       "      <td>20</td>\n",
       "    </tr>\n",
       "  </tbody>\n",
       "</table>\n",
       "</div>"
      ],
      "text/plain": [
       "        Name  UT  DataScience  Statistics  Computers\n",
       "0     Lokesh   1           22          21         18\n",
       "1     Lokesh   2           21          20         17\n",
       "2     Lokesh   3           14          19         15\n",
       "3   Prasanna   1           20          17         22\n",
       "4   Prasanna   2           23          15         21\n",
       "5   Prasanna   3           22          18         19\n",
       "6   Lakshman   1           23          19         20\n",
       "7   Lakshman   2           24          22         24\n",
       "8   Lakshman   3           12          25         19\n",
       "9      Phani   1           15          22         25\n",
       "10     Phani   2           18          21         25\n",
       "11     Phani   3           17          18         20"
      ]
     },
     "execution_count": 152,
     "metadata": {},
     "output_type": "execute_result"
    }
   ],
   "source": [
    "df2=pd.read_sql_query('select * from student_marks',data)\n",
    "df2"
   ]
  },
  {
   "cell_type": "markdown",
   "id": "7c1804c8-88b0-4ad6-9e9b-1c6b13ddd206",
   "metadata": {},
   "source": [
    "### Calculate the Total Marks of Each Student from the Retrieved Data"
   ]
  },
  {
   "cell_type": "code",
   "execution_count": 153,
   "id": "3750fe4a-4121-4e1e-882c-08862a2d2bb9",
   "metadata": {},
   "outputs": [
    {
     "data": {
      "text/html": [
       "<div>\n",
       "<style scoped>\n",
       "    .dataframe tbody tr th:only-of-type {\n",
       "        vertical-align: middle;\n",
       "    }\n",
       "\n",
       "    .dataframe tbody tr th {\n",
       "        vertical-align: top;\n",
       "    }\n",
       "\n",
       "    .dataframe thead th {\n",
       "        text-align: right;\n",
       "    }\n",
       "</style>\n",
       "<table border=\"1\" class=\"dataframe\">\n",
       "  <thead>\n",
       "    <tr style=\"text-align: right;\">\n",
       "      <th></th>\n",
       "      <th>Name</th>\n",
       "      <th>UT</th>\n",
       "      <th>DataScience</th>\n",
       "      <th>Statistics</th>\n",
       "      <th>Computers</th>\n",
       "      <th>total</th>\n",
       "    </tr>\n",
       "  </thead>\n",
       "  <tbody>\n",
       "    <tr>\n",
       "      <th>0</th>\n",
       "      <td>Lokesh</td>\n",
       "      <td>1</td>\n",
       "      <td>22</td>\n",
       "      <td>21</td>\n",
       "      <td>18</td>\n",
       "      <td>61</td>\n",
       "    </tr>\n",
       "    <tr>\n",
       "      <th>1</th>\n",
       "      <td>Lokesh</td>\n",
       "      <td>2</td>\n",
       "      <td>21</td>\n",
       "      <td>20</td>\n",
       "      <td>17</td>\n",
       "      <td>58</td>\n",
       "    </tr>\n",
       "    <tr>\n",
       "      <th>2</th>\n",
       "      <td>Lokesh</td>\n",
       "      <td>3</td>\n",
       "      <td>14</td>\n",
       "      <td>19</td>\n",
       "      <td>15</td>\n",
       "      <td>48</td>\n",
       "    </tr>\n",
       "    <tr>\n",
       "      <th>3</th>\n",
       "      <td>Prasanna</td>\n",
       "      <td>1</td>\n",
       "      <td>20</td>\n",
       "      <td>17</td>\n",
       "      <td>22</td>\n",
       "      <td>59</td>\n",
       "    </tr>\n",
       "    <tr>\n",
       "      <th>4</th>\n",
       "      <td>Prasanna</td>\n",
       "      <td>2</td>\n",
       "      <td>23</td>\n",
       "      <td>15</td>\n",
       "      <td>21</td>\n",
       "      <td>59</td>\n",
       "    </tr>\n",
       "    <tr>\n",
       "      <th>5</th>\n",
       "      <td>Prasanna</td>\n",
       "      <td>3</td>\n",
       "      <td>22</td>\n",
       "      <td>18</td>\n",
       "      <td>19</td>\n",
       "      <td>59</td>\n",
       "    </tr>\n",
       "    <tr>\n",
       "      <th>6</th>\n",
       "      <td>Lakshman</td>\n",
       "      <td>1</td>\n",
       "      <td>23</td>\n",
       "      <td>19</td>\n",
       "      <td>20</td>\n",
       "      <td>62</td>\n",
       "    </tr>\n",
       "    <tr>\n",
       "      <th>7</th>\n",
       "      <td>Lakshman</td>\n",
       "      <td>2</td>\n",
       "      <td>24</td>\n",
       "      <td>22</td>\n",
       "      <td>24</td>\n",
       "      <td>70</td>\n",
       "    </tr>\n",
       "    <tr>\n",
       "      <th>8</th>\n",
       "      <td>Lakshman</td>\n",
       "      <td>3</td>\n",
       "      <td>12</td>\n",
       "      <td>25</td>\n",
       "      <td>19</td>\n",
       "      <td>56</td>\n",
       "    </tr>\n",
       "    <tr>\n",
       "      <th>9</th>\n",
       "      <td>Phani</td>\n",
       "      <td>1</td>\n",
       "      <td>15</td>\n",
       "      <td>22</td>\n",
       "      <td>25</td>\n",
       "      <td>62</td>\n",
       "    </tr>\n",
       "    <tr>\n",
       "      <th>10</th>\n",
       "      <td>Phani</td>\n",
       "      <td>2</td>\n",
       "      <td>18</td>\n",
       "      <td>21</td>\n",
       "      <td>25</td>\n",
       "      <td>64</td>\n",
       "    </tr>\n",
       "    <tr>\n",
       "      <th>11</th>\n",
       "      <td>Phani</td>\n",
       "      <td>3</td>\n",
       "      <td>17</td>\n",
       "      <td>18</td>\n",
       "      <td>20</td>\n",
       "      <td>55</td>\n",
       "    </tr>\n",
       "  </tbody>\n",
       "</table>\n",
       "</div>"
      ],
      "text/plain": [
       "        Name  UT  DataScience  Statistics  Computers  total\n",
       "0     Lokesh   1           22          21         18     61\n",
       "1     Lokesh   2           21          20         17     58\n",
       "2     Lokesh   3           14          19         15     48\n",
       "3   Prasanna   1           20          17         22     59\n",
       "4   Prasanna   2           23          15         21     59\n",
       "5   Prasanna   3           22          18         19     59\n",
       "6   Lakshman   1           23          19         20     62\n",
       "7   Lakshman   2           24          22         24     70\n",
       "8   Lakshman   3           12          25         19     56\n",
       "9      Phani   1           15          22         25     62\n",
       "10     Phani   2           18          21         25     64\n",
       "11     Phani   3           17          18         20     55"
      ]
     },
     "execution_count": 153,
     "metadata": {},
     "output_type": "execute_result"
    }
   ],
   "source": [
    "df2['total'] = df2.iloc[:, 2:].sum(axis=1)\n",
    "df2"
   ]
  },
  {
   "cell_type": "markdown",
   "id": "7090f1e3-32b2-4632-9dc5-8a4c2660219e",
   "metadata": {},
   "source": [
    "### Visualizing Student Performance in Data Science, Statistics, and Computers\n",
    "    This code snippet uses the pandas library to load and manipulate data, and the matplotlib library to create a bar chart that displays the mean total marks of each student in three subjects: Data Science, Statistics, and Computers. The chart shows the mean marks for each student, with bars representing each subject, and provides a clear visualization of the performance of each student across the three subjects."
   ]
  },
  {
   "cell_type": "code",
   "execution_count": 154,
   "id": "5b8e70ee-0245-40ac-b206-ae4ba34d82a9",
   "metadata": {},
   "outputs": [
    {
     "data": {
      "image/png": "[encoded data removed]",
      "text/plain": [
       "<Figure size 1200x800 with 1 Axes>"
      ]
     },
     "metadata": {},
     "output_type": "display_data"
    }
   ],
   "source": [
    "import pandas as pd\n",
    "import numpy as np\n",
    "import matplotlib.pyplot as plt\n",
    "\n",
    "# Load the data\n",
    "data = df2\n",
    "# Calculate the total marks for each student\n",
    "data['total'] = data['DataScience'] + data['Statistics'] + data['Computers']\n",
    "\n",
    "# Group the data by subject and UT, and calculate the mean total marks for each group\n",
    "data_melted = pd.melt(data, id_vars=['Name', 'UT'], var_name='Subject', value_name='Marks')\n",
    "grouped_data_mean = data_melted.groupby(['Name', 'Subject'])['Marks'].mean().reset_index()\n",
    "\n",
    "# Get the number of unique students\n",
    "n_students = len(grouped_data_mean['Name'].unique())\n",
    "\n",
    "# Set width of bar\n",
    "barWidth = 0.25\n",
    "\n",
    "# Set the position of each bar on the X axis\n",
    "r1 = np.arange(n_students)\n",
    "r2 = [x + barWidth for x in r1]\n",
    "r3 = [x + barWidth for x in r2]\n",
    "\n",
    "# Make the plot\n",
    "fig = plt.subplots(figsize=(12, 8))\n",
    "plt.bar(r1, list(grouped_data_mean[grouped_data_mean['Subject'] == 'DataScience']['Marks']), color='r', width=barWidth, edgecolor='grey', label='DataScience')\n",
    "plt.bar(r2, list(grouped_data_mean[grouped_data_mean['Subject'] == 'Statistics']['Marks']), color='g', width=barWidth, edgecolor='grey', label='Statistics')\n",
    "plt.bar(r3, list(grouped_data_mean[grouped_data_mean['Subject'] == 'Computers']['Marks']), color='b', width=barWidth, edgecolor='grey', label='Computers')\n",
    "\n",
    "# Adding labels to bars\n",
    "for i in range(len(r1)):\n",
    "    plt.text(x=r1[i]-0.03, y=list(grouped_data_mean[grouped_data_mean['Subject'] == 'DataScience']['Marks'])[i]+0.5, s=round(list(grouped_data_mean[grouped_data_mean['Subject'] == 'DataScience']['Marks'])[i], 1))\n",
    "    plt.text(x=r2[i]-0.03, y=list(grouped_data_mean[grouped_data_mean['Subject'] == 'Statistics']['Marks'])[i]+0.5, s=round(list(grouped_data_mean[grouped_data_mean['Subject'] == 'Statistics']['Marks'])[i], 1))\n",
    "    plt.text(x=r3[i]-0.03, y=list(grouped_data_mean[grouped_data_mean['Subject'] == 'Computers']['Marks'])[i]+0.5, s=round(list(grouped_data_mean[grouped_data_mean['Subject'] == 'Computers']['Marks'])[i], 1))\n",
    "\n",
    "# Adding Xticks\n",
    "plt.xlabel('Student', fontweight ='bold', fontsize = 15)\n",
    "plt.ylabel('Mean total marks', fontweight ='bold', fontsize = 15)\n",
    "plt.xticks([r + barWidth for r in range(n_students)], list(grouped_data_mean['Name'].unique()))\n",
    "\n",
    "plt.legend()\n",
    "plt.show()"
   ]
  },
  {
   "cell_type": "markdown",
   "id": "42987878-741e-4c72-92d2-62c03b205d76",
   "metadata": {},
   "source": [
    "### Student Marks Dashboard: Interactive Visualization of Student Performance by Name and UT\n",
    "\n",
    "    \n",
    "This code snippet uses the Dash library to create a web-based dashboard that allows users to select a student's name and UT (Unt Teste) and view their performance in three subjects: Data Science, Statistics, and Computers. The dashboard uses a stacked bar chart to visualize the student's marks in each subject, with the ability to update the graph dynamically based on user input. This provides a interactive and user-friendly way to explore student performance data."
   ]
  },
  {
   "cell_type": "code",
   "execution_count": 155,
   "id": "88cc5aae-7cf0-43fe-8cb7-53eebba68c1a",
   "metadata": {},
   "outputs": [
    {
     "data": {
      "text/html": [
       "\n",
       "        <iframe\n",
       "            width=\"100%\"\n",
       "            height=\"650\"\n",
       "            src=\"http://127.0.0.1:8050/\"\n",
       "            frameborder=\"0\"\n",
       "            allowfullscreen\n",
       "            \n",
       "        ></iframe>\n",
       "        "
      ],
      "text/plain": [
       "<IPython.lib.display.IFrame at 0x1e937d9b950>"
      ]
     },
     "metadata": {},
     "output_type": "display_data"
    }
   ],
   "source": [
    "import plotly.graph_objs as go\n",
    "import dash\n",
    "import dash_core_components as dcc\n",
    "import dash_html_components as html\n",
    "from dash.dependencies import Input, Output\n",
    "\n",
    "# Create a Dash app\n",
    "app = dash.Dash(__name__)\n",
    "\n",
    "# Define the layout of the app\n",
    "app.layout = html.Div([\n",
    "    html.H1('Student Marks Dashboard', style={'textAlign': 'center',  'color': 'white'}),\n",
    "    html.Div([\n",
    "        html.Label('Name', style={'font-weight': 'bold', 'color': 'white'}),\n",
    "        html.Br(),\n",
    "        dcc.Dropdown(\n",
    "            id='select-name',\n",
    "            options=[{'label': name, 'value': name} for name in df2['Name'].unique()],\n",
    "            value='Lokesh'\n",
    "        )\n",
    "    ], style={'width': '98%',  'padding':'10px', 'display': 'inline-block', 'vertical-align': 'top'}),\n",
    "    html.Div([\n",
    "        html.Label('UT', style={'font-weight': 'bold', 'color': 'white'}),\n",
    "        html.Br(),\n",
    "        dcc.Dropdown(\n",
    "            id='select-ut',\n",
    "            options=[{'label': ut, 'value': ut} for ut in df2['UT'].unique()],\n",
    "            value=1\n",
    "        )\n",
    "    ], style={'width': '98%',  'padding':'10px','display': 'inline-block', 'vertical-align': 'top'}),\n",
    "    dcc.Graph(\n",
    "        id='graph',\n",
    "        style={'height': '500px'}\n",
    "    )\n",
    "])\n",
    "\n",
    "# Define the callback function to update the graph based on user input\n",
    "@app.callback(\n",
    "    Output(component_id='graph', component_property='figure'),\n",
    "    [Input(component_id='select-name', component_property='value'),\n",
    "     Input(component_id='select-ut', component_property='value')])\n",
    "\n",
    "def update_graph(selected_name, selected_ut):\n",
    "    # Filter the data for the selected name and UT\n",
    "    selected_data = df2[(df2['Name'] == selected_name) & (df2['UT'] == int(selected_ut))]\n",
    "    \n",
    "    # Create a stacked bar graph for the selected data\n",
    "    trace1 = go.Bar(x=['Data Science', 'Statistics', 'Computers'], y=[selected_data['DataScience'].iloc[0], selected_data['Statistics'].iloc[0], selected_data['Computers'].iloc[0]], name='Marks', marker_color=['#1E90FF', '#FF69B4', '#32CD32'], width=0.4)\n",
    "    return {'data': [trace1], 'layout': go.Layout(title='Marks for {} in UT {}'.format(selected_name, selected_ut), xaxis={'title': 'Subjects', 'automargin': True}, yaxis={'title': 'Marks'}, barmode='stack')}\n",
    "\n",
    "# Run the app\n",
    "if __name__ == '__main__':\n",
    "    app.run_server(debug=True)\n"
   ]
  },
  {
   "cell_type": "markdown",
   "id": "ac2be90e-b00c-4d9b-b859-0da071612df0",
   "metadata": {},
   "source": [
    "### Student Performance Dashboard: Interactive Visualization of Mean Marks for Each Student\r",
    "        \n",
    "This code snippet uses the Dash library to create a web-based dashboard that allows users to select a student and visualize their mean performance in three subjects: Data Science, Statistics, and Computers. The dashboard displays both the mean marks for each student and the individual marks for each student, with the ability to update the graph dynamically based on user input. This provides a interactive and user-friendly way to explore student performance data."
   ]
  },
  {
   "cell_type": "code",
   "execution_count": 156,
   "id": "d499f11f-d2ad-4540-b6f2-906ba6380436",
   "metadata": {},
   "outputs": [
    {
     "data": {
      "text/html": [
       "\n",
       "        <iframe\n",
       "            width=\"100%\"\n",
       "            height=\"650\"\n",
       "            src=\"http://127.0.0.1:12345/\"\n",
       "            frameborder=\"0\"\n",
       "            allowfullscreen\n",
       "            \n",
       "        ></iframe>\n",
       "        "
      ],
      "text/plain": [
       "<IPython.lib.display.IFrame at 0x1e93bae5c10>"
      ]
     },
     "metadata": {},
     "output_type": "display_data"
    }
   ],
   "source": [
    "import pandas as pd\n",
    "import numpy as np\n",
    "import dash\n",
    "import dash_core_components as dcc\n",
    "import dash_html_components as html\n",
    "from dash.dependencies import Input, Output\n",
    "\n",
    "# Load the data\n",
    "data = df2\n",
    "# Calculate the total marks for each student\n",
    "data['total'] = data['DataScience'] + data['Statistics'] + data['Computers']\n",
    "\n",
    "# Group the data by subject and UT, and calculate the mean total marks for each group\n",
    "data_melted = pd.melt(data, id_vars=['Name', 'UT'], var_name='Subject', value_name='Marks')\n",
    "grouped_data_mean = data_melted.groupby(['Name', 'UT', 'Subject'])['Marks'].mean().reset_index()\n",
    "\n",
    "# Create a Dash app\n",
    "app = dash.Dash(__name__)\n",
    "\n",
    "# Create the layout\n",
    "app.layout = html.Div([\n",
    "    html.H1('Student Performance Dashboard'),\n",
    "    html.Div([\n",
    "        html.P('Select a student:'),\n",
    "        dcc.Dropdown(\n",
    "            id='student-dropdown',\n",
    "            options=[{'label': name, 'value': name} for name in data['Name'].unique()]\n",
    "        )\n",
    "    ]),\n",
    "    html.Div([\n",
    "        html.H2('Student Performance'),\n",
    "        dcc.Graph(id='performance-graph')\n",
    "    ])\n",
    "])\n",
    "\n",
    "\n",
    "# Create a callback function to update the graph when the student dropdown is changed\n",
    "@app.callback(\n",
    "    Output('performance-graph', 'figure'),\n",
    "    [Input('student-dropdown', 'value')]\n",
    ")\n",
    "def update_graph(selected_student):\n",
    "    filtered_data = grouped_data_mean[grouped_data_mean['Name'] == selected_student]\n",
    "    fig = {\n",
    "        'data': [\n",
    "            {'x': filtered_data['UT'], 'y': filtered_data['Marks'], 'type': 'bar', 'name': 'Mean Marks'},\n",
    "            {'x': filtered_data['UT'], 'y': filtered_data['Marks'], 'type': 'line', 'name': 'Individual Marks'}\n",
    "        ],\n",
    "        'layout': {'title': f'Mean Marks for {selected_student}'}\n",
    "    }\n",
    "    return fig\n",
    "\n",
    "# Run the app\n",
    "if __name__ == '__main__':\n",
    "    app.run_server(port=12345)\n",
    "    "
   ]
  }
 ],
 "metadata": {
  "kernelspec": {
   "display_name": "Python 3 (ipykernel)",
   "language": "python",
   "name": "python3"
  },
  "language_info": {
   "codemirror_mode": {
    "name": "ipython",
    "version": 3
   },
   "file_extension": ".py",
   "mimetype": "text/x-python",
   "name": "python",
   "nbconvert_exporter": "python",
   "pygments_lexer": "ipython3",
   "version": "3.12.1"
  }
 },
 "nbformat": 4,
 "nbformat_minor": 5
}
